{
 "cells": [
  {
   "cell_type": "markdown",
   "id": "bf4175d1-d720-4668-9bbe-3bae8f244c89",
   "metadata": {},
   "source": [
    "# Data Types and Structures Questions"
   ]
  },
  {
   "cell_type": "markdown",
   "id": "f044595a-5057-4a8b-b0e8-47d3d599f992",
   "metadata": {},
   "source": [
    "### Q 1. What are data structures, and why are they important."
   ]
  },
  {
   "cell_type": "markdown",
   "id": "7b9558be-6a76-4c8f-b0ce-5a40a632d145",
   "metadata": {},
   "source": [
    "Ans. Data structures are organized ways to store, manage, and retrieve data efficiently. Examples include arrays, linked lists, stacks, queues, trees, and graphs.\n",
    "\n",
    "Importance:\n",
    "\n",
    "1. Efficiency: They enable faster data access and manipulation.\n",
    "2. Scalability: Handle large datasets effectively.\n",
    "3. Optimization: Solve problems like searching, sorting, and managing resources efficiently.\n",
    "4. Foundation: Essential for algorithms and programming logic."
   ]
  },
  {
   "cell_type": "markdown",
   "id": "735b08bc-e146-4404-93ea-52fcdfa87570",
   "metadata": {},
   "source": [
    "### Q 2. Explain the difference between mutable and immutable data types with examples"
   ]
  },
  {
   "cell_type": "markdown",
   "id": "8f7158ed-93b5-46c5-a122-2eb70981f502",
   "metadata": {},
   "source": [
    "Ans. The key difference between mutable and immutable data types lies in whether their content can be changed after creation:\n",
    "\n",
    "1. Mutable: Can be modified after creation.\n",
    "\n",
    "* Examples: Lists, dictionaries, sets.\n",
    "* Example in Python:"
   ]
  },
  {
   "cell_type": "code",
   "execution_count": 1,
   "id": "ca754ede-284c-44b8-bdb3-72b804309791",
   "metadata": {},
   "outputs": [
    {
     "name": "stdout",
     "output_type": "stream",
     "text": [
      "[1, 2, 3, 4]\n"
     ]
    }
   ],
   "source": [
    "my_list = [1, 2, 3]\n",
    "my_list.append(4)  # Modifies the list\n",
    "print(my_list)  # Output: [1, 2, 3, 4]"
   ]
  },
  {
   "cell_type": "markdown",
   "id": "95b5d46a-c56a-4393-8303-295a4eb0af42",
   "metadata": {},
   "source": [
    "2. Immutable: Cannot be changed after creation.\n",
    "\n",
    "* Examples: Strings, tuples, numbers.\n",
    "* Example in Python:"
   ]
  },
  {
   "cell_type": "code",
   "execution_count": 2,
   "id": "78f1c93f-4637-472a-984e-ce8dab0725f2",
   "metadata": {},
   "outputs": [
    {
     "name": "stdout",
     "output_type": "stream",
     "text": [
      "hello world\n"
     ]
    }
   ],
   "source": [
    "my_string = \"hello\"\n",
    "my_string += \" world\"  # Creates a new string\n",
    "print(my_string)  # Output: \"hello world\""
   ]
  },
  {
   "cell_type": "markdown",
   "id": "0838bd32-ebef-4a81-8516-63886908fbc0",
   "metadata": {},
   "source": [
    "Mutable types are good for dynamic changes, while immutable types ensure data integrity."
   ]
  },
  {
   "cell_type": "markdown",
   "id": "aa63253c-32cb-4165-a46d-afe37a6008c6",
   "metadata": {},
   "source": [
    "### Q 3. What are the main differences between lists and tuples in Python?"
   ]
  },
  {
   "cell_type": "markdown",
   "id": "e395003d-fcb5-449e-be22-a955cb5b0a54",
   "metadata": {},
   "source": [
    "Ans. Lists and tuples in Python differ mainly in mutability and usage:\n",
    "* Lists are mutable, meaning you can change, add, or remove items after creation. They are created using square brackets ([]).\n",
    "Example:"
   ]
  },
  {
   "cell_type": "code",
   "execution_count": 3,
   "id": "6c45b1a4-0980-4db0-9c87-5e580122670b",
   "metadata": {},
   "outputs": [
    {
     "name": "stdout",
     "output_type": "stream",
     "text": [
      "[1, 2, 3, 4]\n"
     ]
    }
   ],
   "source": [
    "my_list = [1, 2, 3]\n",
    "my_list.append(4)  # Modifies the list\n",
    "print(my_list)  # Output: [1, 2, 3, 4]"
   ]
  },
  {
   "cell_type": "markdown",
   "id": "0d5aca22-e302-40a8-a802-183517da6d0c",
   "metadata": {},
   "source": [
    "* Tuples are immutable, meaning their content cannot be changed after creation. They are created using parentheses (()).\n",
    "Example:"
   ]
  },
  {
   "cell_type": "code",
   "execution_count": 4,
   "id": "93e8f8b0-643d-475e-9ca0-9b25109d29c2",
   "metadata": {},
   "outputs": [
    {
     "name": "stdout",
     "output_type": "stream",
     "text": [
      "(1, 2, 3)\n"
     ]
    }
   ],
   "source": [
    "my_tuple = (1, 2, 3)\n",
    "# my_tuple[0] = 4  # Raises an error\n",
    "print(my_tuple)  # Output: (1, 2, 3)"
   ]
  },
  {
   "cell_type": "markdown",
   "id": "910a95b6-eb3f-492b-a655-1147c60403c3",
   "metadata": {},
   "source": [
    "Lists are used when you need flexibility, while tuples are better for fixed data that shouldn't be modified."
   ]
  },
  {
   "cell_type": "markdown",
   "id": "4b964187-e959-4bee-80a1-b8b2cb51400c",
   "metadata": {},
   "source": [
    "### Q 4. Describe how dictionaries store data."
   ]
  },
  {
   "cell_type": "markdown",
   "id": "5fb7fced-5ed5-41a5-a534-d989f0e53ddc",
   "metadata": {},
   "source": [
    "Ans. Dictionaries in Python store data as key-value pairs in a hash table structure. Here's how it works:\n",
    "1. Keys and Values:\n",
    "* A key is a unique identifier used to access a value.\n",
    "* A value is the data associated with the key.\n",
    "\n",
    "2. Hashing:\n",
    "* Each key is passed through a hash function to produce a unique hash (an integer).\n",
    "* This hash determines where the key-value pair is stored in the dictionary.\n",
    "\n",
    "3. Storage:\n",
    "* Key-value pairs are stored in buckets based on the hash.\n",
    "* Python handles collisions (when two keys have the same hash) using techniques like chaining.\n",
    "\n",
    "4. Fast Access:\n",
    "* Dictionaries provide O(1) average-time complexity for lookups, additions, and deletions because the hash maps directly to the storage location."
   ]
  },
  {
   "cell_type": "markdown",
   "id": "0fee8522-bfa8-4f86-bdba-76b386eb9d69",
   "metadata": {},
   "source": [
    "### Example:"
   ]
  },
  {
   "cell_type": "code",
   "execution_count": 5,
   "id": "9b1f8ecc-ae2d-4a3a-93e0-07aeb209f63b",
   "metadata": {},
   "outputs": [
    {
     "name": "stdout",
     "output_type": "stream",
     "text": [
      "Alice\n"
     ]
    }
   ],
   "source": [
    "my_dict = {\"name\": \"Alice\", \"age\": 25}\n",
    "print(my_dict[\"name\"])  # Output: Alice"
   ]
  },
  {
   "cell_type": "markdown",
   "id": "b4b25d7f-ad5c-49df-b4ab-254b718e97fa",
   "metadata": {},
   "source": [
    "Here, \"name\" is the key, and \"Alice\" is the value. The key is hashed, and the dictionary retrieves the value efficiently."
   ]
  },
  {
   "cell_type": "markdown",
   "id": "952b3c6e-9b51-43fd-8d63-15634c5b8ae3",
   "metadata": {},
   "source": [
    "### Q 5. Why might you use a set instead of a list in Python?"
   ]
  },
  {
   "cell_type": "markdown",
   "id": "deb5eee9-9cdc-421b-bf49-0095902d40d7",
   "metadata": {},
   "source": [
    "Ans. You might use a set instead of a list in Python when you need:\n",
    "1. Unique Elements:\n",
    "\n",
    "* Sets automatically remove duplicate items, ensuring all elements are unique.\n",
    "* Example:"
   ]
  },
  {
   "cell_type": "code",
   "execution_count": 6,
   "id": "c8b59d16-6906-4df2-b5c1-8b1353147e12",
   "metadata": {},
   "outputs": [
    {
     "name": "stdout",
     "output_type": "stream",
     "text": [
      "{1, 2, 3}\n"
     ]
    }
   ],
   "source": [
    "my_set = {1, 2, 2, 3}\n",
    "print(my_set)  # Output: {1, 2, 3}"
   ]
  },
  {
   "cell_type": "markdown",
   "id": "ed2bc32b-23df-4fc1-a1c4-84638adf41e4",
   "metadata": {},
   "source": [
    "2. Faster Membership Testing:\n",
    "\n",
    "* Checking if an element exists in a set is much faster (O(1) on average) compared to a list (O(n) on average).\n",
    "* Example:"
   ]
  },
  {
   "cell_type": "code",
   "execution_count": 7,
   "id": "afb9c7bb-3ea4-4f94-a490-7a53644a553d",
   "metadata": {},
   "outputs": [
    {
     "name": "stdout",
     "output_type": "stream",
     "text": [
      "True\n"
     ]
    }
   ],
   "source": [
    "my_set = {1, 2, 3}\n",
    "print(2 in my_set)  # Fast membership check"
   ]
  },
  {
   "cell_type": "markdown",
   "id": "db599a5b-cd78-4032-a45b-efe0189d3ba4",
   "metadata": {},
   "source": [
    "3. Set Operations:\n",
    "\n",
    "* Sets support operations like union, intersection, and difference, which are efficient for handling mathematical set operations.\n",
    "* Example:"
   ]
  },
  {
   "cell_type": "code",
   "execution_count": 8,
   "id": "53379b87-6bd0-4122-b18a-466961356445",
   "metadata": {},
   "outputs": [
    {
     "name": "stdout",
     "output_type": "stream",
     "text": [
      "{3}\n"
     ]
    }
   ],
   "source": [
    "set1 = {1, 2, 3}\n",
    "set2 = {3, 4, 5}\n",
    "print(set1 & set2)  # Output: {3} (intersection)"
   ]
  },
  {
   "cell_type": "markdown",
   "id": "1a89eeb8-afb8-4ae6-b291-a23e45bed4b3",
   "metadata": {},
   "source": [
    "Use a set when uniqueness, fast lookups, or mathematical operations are priorities. Use a list when order and duplicate elements are needed."
   ]
  },
  {
   "cell_type": "markdown",
   "id": "1aab1d95-4894-4a3b-8a8a-1ad589f62d9e",
   "metadata": {},
   "source": [
    "### Q 6. What is a string in Python, and how is it different from a list?"
   ]
  },
  {
   "cell_type": "markdown",
   "id": "455f0e4a-9378-45b8-8156-27b52cd31eee",
   "metadata": {},
   "source": [
    "Ans. In Python, a string and a list are both sequences, but they serve different purposes and have key differences in functionality and behavior.\n",
    "\n",
    "### STRING"
   ]
  },
  {
   "cell_type": "markdown",
   "id": "4a317541-a8b4-41a1-bfb0-551c87304bd9",
   "metadata": {},
   "source": [
    "A string is a sequence of characters enclosed in either single (') or double (\") quotes. Strings are used to represent text.\n",
    "\n",
    "Characteristics of Strings:\n",
    "\n",
    "1. Immutable: Strings cannot be changed after they are created. Any operation that modifies a string creates a new string.\n",
    "2. Homogeneous: Strings are composed of only characters.\n",
    "3. Convenient Methods: Strings have built-in methods for text manipulation, such as .lower(), .upper(), .replace(), .split(), etc.\n",
    "\n",
    "Example:"
   ]
  },
  {
   "cell_type": "code",
   "execution_count": 9,
   "id": "fe6b681d-9c8c-4c57-9e19-38d204eaa7f2",
   "metadata": {},
   "outputs": [
    {
     "name": "stdout",
     "output_type": "stream",
     "text": [
      "H\n",
      "HELLO, WORLD!\n"
     ]
    }
   ],
   "source": [
    "text = \"Hello, World!\"\n",
    "print(text[0])  # Output: 'H'\n",
    "print(text.upper())  # Output: 'HELLO, WORLD!'"
   ]
  },
  {
   "cell_type": "markdown",
   "id": "e6405ea4-040d-4355-a0ef-251fba0fc27a",
   "metadata": {},
   "source": [
    "List\n",
    "A list is a collection of items (elements) that can hold objects of any type. Lists are used to group related data.\n",
    "\n",
    "Characteristics of Lists:\n",
    "\n",
    "1. Mutable: Lists can be changed after creation. Elements can be added, removed, or modified.\n",
    "2. Heterogeneous: Lists can contain elements of different types (e.g., integers, strings, other lists, etc.).\n",
    "3. Versatile Methods: Lists have methods like .append(), .extend(), .pop(), .remove(), etc., for modifying the list."
   ]
  },
  {
   "cell_type": "code",
   "execution_count": 10,
   "id": "9b122349-7075-48c3-bfda-34c0440c4b34",
   "metadata": {},
   "outputs": [
    {
     "name": "stdout",
     "output_type": "stream",
     "text": [
      "Hello\n",
      "[42, 'Hello', 3.14]\n"
     ]
    }
   ],
   "source": [
    "my_list = [1, \"Hello\", 3.14]\n",
    "print(my_list[1])  # Output: 'Hello'\n",
    "my_list[0] = 42  # Modifies the list\n",
    "print(my_list)  # Output: [42, 'Hello', 3.14]"
   ]
  },
  {
   "cell_type": "markdown",
   "id": "3cafa388-42db-4f07-b734-71faad2f9701",
   "metadata": {},
   "source": [
    "### Q 7.  How do tuples ensure data integrity in Python?"
   ]
  },
  {
   "cell_type": "markdown",
   "id": "32b67a52-1457-4b7f-b494-1715928f3c99",
   "metadata": {},
   "source": [
    "Ans. Tuples in Python help ensure data integrity by being immutable. Once a tuple is created, its contents cannot be changed, which means:\n",
    "\n",
    "1. No Modification: The elements of a tuple cannot be added, removed, or altered. This immutability ensures that the data remains consistent throughout its use in a program.\n",
    "\n",
    "2. Safe for Hashing: Since tuples are immutable, they can be used as keys in dictionaries or elements in sets, unlike mutable data types (like lists), which are not hashable. This makes tuples a reliable choice for scenarios requiring fixed and unchangeable data.\n",
    "\n",
    "3. Predictability: Immutability eliminates the possibility of accidental modifications, providing stability and predictability when tuples are shared between functions or passed as arguments.\n",
    "\n",
    "4. Thread Safety: In multi-threaded environments, immutable objects like tuples are inherently thread-safe because their state cannot be changed after creation."
   ]
  },
  {
   "cell_type": "markdown",
   "id": "9e5b19f7-5b09-4870-a2ba-e43d4535901a",
   "metadata": {},
   "source": [
    "### Examples\n",
    "1. Ensuring Data Consistency"
   ]
  },
  {
   "cell_type": "code",
   "execution_count": 11,
   "id": "b6ab7798-def7-428b-8fea-a6750032916e",
   "metadata": {},
   "outputs": [
    {
     "name": "stdout",
     "output_type": "stream",
     "text": [
      "'tuple' object does not support item assignment\n"
     ]
    }
   ],
   "source": [
    "config = (3.14, \"Pi\", True)  # Configuration values stored as a tuple\n",
    "# Prevent accidental modifications\n",
    "try:\n",
    "    config[0] = 42\n",
    "except TypeError as e:\n",
    "    print(e)  # Output: 'tuple' object does not support item assignment"
   ]
  },
  {
   "cell_type": "markdown",
   "id": "08e743c1-c0bc-4a4b-9580-c4be9dd4dfea",
   "metadata": {},
   "source": [
    "2. Using Tuples as Dictionary Keys"
   ]
  },
  {
   "cell_type": "code",
   "execution_count": 12,
   "id": "1ae7b899-7449-4afd-b6be-6ef44d454ec6",
   "metadata": {},
   "outputs": [
    {
     "name": "stdout",
     "output_type": "stream",
     "text": [
      "New York\n"
     ]
    }
   ],
   "source": [
    "coordinates = {\n",
    "    (40.7128, -74.0060): \"New York\",\n",
    "    (34.0522, -118.2437): \"Los Angeles\",\n",
    "}\n",
    "\n",
    "print(coordinates[(40.7128, -74.0060)])  # Output: 'New York'"
   ]
  },
  {
   "cell_type": "markdown",
   "id": "b364733d-e675-463d-a778-769ac39e6e2b",
   "metadata": {},
   "source": [
    "3. Sharing Data Across Functions\n",
    "* By using tuples, you can ensure that the shared data is not accidentally modified by a function:"
   ]
  },
  {
   "cell_type": "code",
   "execution_count": 13,
   "id": "607eb7ce-e7c4-4b72-8452-f9d9757d9dfd",
   "metadata": {},
   "outputs": [
    {
     "name": "stdout",
     "output_type": "stream",
     "text": [
      "(1, 2, 3)\n"
     ]
    }
   ],
   "source": [
    "def process_data(data):\n",
    "    # data cannot be changed\n",
    "    print(data)\n",
    "\n",
    "immutable_data = (1, 2, 3)\n",
    "process_data(immutable_data)  # Safe from modification"
   ]
  },
  {
   "cell_type": "markdown",
   "id": "71d6603e-f9a8-44ab-9b45-d30c3f85e8bc",
   "metadata": {},
   "source": [
    "### When to Use Tuples\n",
    "* Fixed Data: When the number and order of elements are known and should not change.\n",
    "* Constants: To define constant values that should remain unaltered.\n",
    "* Keys or Membership: When you need a hashable, immutable sequence (e.g., dictionary    keys or set elements).\n",
    "* By enforcing immutability, tuples serve as a mechanism for safeguarding data integrity in Python programs."
   ]
  },
  {
   "cell_type": "markdown",
   "id": "7e6d22e2-3e39-457a-b7b9-637d401cfef2",
   "metadata": {},
   "source": [
    "### Q 8. What is a hash table, and how does it relate to dictionaries in Python?"
   ]
  },
  {
   "cell_type": "markdown",
   "id": "1004c51f-8fbd-4db4-999a-f2e1f65678e3",
   "metadata": {},
   "source": [
    "Ans. A hash table is a data structure that maps keys to values using a hash function to compute an index for storing and retrieving values efficiently.\n",
    "\n",
    "In Python, the dictionary (dict) is implemented using a hash table under the hood. It allows:\n",
    "\n",
    "* O(1) average-time complexity for lookups, insertions, and deletions.\n",
    "* Unique keys, which are hashed to determine their storage location.\n",
    "\n",
    "The hash table ensures efficient performance by handling collisions (when two keys hash to the same index) using techniques like chaining or open addressing."
   ]
  },
  {
   "cell_type": "markdown",
   "id": "aea90dc5-f027-4e5a-b473-be38e5821f6f",
   "metadata": {},
   "source": [
    "### Q 9. Can lists contain different data types in Python?"
   ]
  },
  {
   "cell_type": "markdown",
   "id": "fd15ef4a-c4d6-4de2-9e35-c911e79bc956",
   "metadata": {},
   "source": [
    "Ans. Yes, in Python, lists can contain elements of different data types. Python lists are heterogeneous, meaning they can hold a mix of data types, including integers, strings, floats, other lists, and even custom objects. Here's an example:"
   ]
  },
  {
   "cell_type": "code",
   "execution_count": 14,
   "id": "1bd3bd23-f6bb-41a2-8045-6bb3e7efe117",
   "metadata": {},
   "outputs": [
    {
     "name": "stdout",
     "output_type": "stream",
     "text": [
      "[1, 'hello', 3.14, [2, 4, 6], True]\n"
     ]
    }
   ],
   "source": [
    "my_list = [1, \"hello\", 3.14, [2, 4, 6], True]\n",
    "print(my_list)"
   ]
  },
  {
   "cell_type": "markdown",
   "id": "e6f2dff7-83dd-48ad-8674-eb0eff64c542",
   "metadata": {},
   "source": [
    "In this list:\n",
    "\n",
    "* 1 is an integer\n",
    "* \"hello\" is a string\n",
    "* 3.14 is a float\n",
    "* [2, 4, 6] is another list\n",
    "* True is a boolean\n",
    "  \n",
    "Python's dynamic typing makes this possible, which provides great flexibility in handling data."
   ]
  },
  {
   "cell_type": "markdown",
   "id": "0ceb08d9-2dd8-4ad4-a021-f39a1343dfbe",
   "metadata": {},
   "source": [
    "### Q 10. Explain why strings are immutable in Python."
   ]
  },
  {
   "cell_type": "markdown",
   "id": "6c8688c5-fa51-4d62-83bd-4fefe05cad62",
   "metadata": {},
   "source": [
    "Ans. Strings are immutable in Python because they are designed to be hashable and used as keys in dictionaries or elements in sets. Immutability ensures that a string's value cannot change after creation, providing consistency and security when used in such contexts. It also improves performance by allowing memory optimization through interning (reusing instances of the same string)."
   ]
  },
  {
   "cell_type": "markdown",
   "id": "20e8fa42-1438-4437-ab76-716c239f0f85",
   "metadata": {},
   "source": [
    "### Q 11. What advantages do dictionaries offer over lists for certain tasks?"
   ]
  },
  {
   "cell_type": "markdown",
   "id": "1172f361-8467-4928-81c0-93889938e016",
   "metadata": {},
   "source": [
    "Ans. Dictionaries offer several advantages over lists for certain tasks:\n",
    "\n",
    "1. Fast Lookups: Dictionaries provide average-case constant-time complexity \n",
    "O(1) for key lookups, making them much faster than searching through lists, which has \n",
    "O(n) time complexity.\n",
    "\n",
    "2. Key-Value Pair Storage: Dictionaries allow you to associate unique keys with values, making it easy to retrieve data by key, which is useful for mappings or associative arrays.\n",
    "\n",
    "3. Unordered Access: Unlike lists, dictionaries do not maintain a specific order, allowing more flexible and efficient data organization when order is not important.\n",
    "\n",
    "4. Dynamic and Flexible Data Structure: Dictionaries are more adaptable for cases where you need to access data based on a unique identifier rather than by index.\n",
    "\n",
    "5. Readability and Code Clarity: Using dictionaries can make code more readable when the task requires accessing data with meaningful labels (keys) instead of numerical indices.\n",
    "\n",
    "These features make dictionaries ideal for tasks that require fast data retrieval, flexible data structures, and meaningful associations between keys and values."
   ]
  },
  {
   "cell_type": "markdown",
   "id": "279a0568-51b6-4e34-b43e-6b27238f41e0",
   "metadata": {},
   "source": [
    "### Q 12. Describe a scenario where using a tuple would be preferable over a list?"
   ]
  },
  {
   "cell_type": "markdown",
   "id": "79dd37ba-00ca-4dcf-ba42-c315a7e7b0fa",
   "metadata": {},
   "source": [
    "Ans. Using a tuple is preferable over a list when immutability is desired or required. A common scenario is when you need to ensure that the data remains constant and cannot be accidentally modified, such as:"
   ]
  },
  {
   "cell_type": "markdown",
   "id": "de9af0e4-6013-4e8a-8381-3f3820353c9c",
   "metadata": {},
   "source": [
    "### Scenario: Using Tuples as Keys in a Dictionary"
   ]
  },
  {
   "cell_type": "markdown",
   "id": "2e4bf61c-35e3-4e79-b27d-f48d04187172",
   "metadata": {},
   "source": [
    "Tuples can be used as keys in a dictionary because they are immutable, whereas lists cannot be used because they are mutable. For instance:"
   ]
  },
  {
   "cell_type": "code",
   "execution_count": 15,
   "id": "f5f3c95d-da13-4725-a13f-8f9913eb8c6c",
   "metadata": {},
   "outputs": [
    {
     "name": "stdout",
     "output_type": "stream",
     "text": [
      "New York\n"
     ]
    }
   ],
   "source": [
    "coordinates = {(40.7128, -74.0060): \"New York\", (34.0522, -118.2437): \"Los Angeles\"}\n",
    "\n",
    "# Accessing data\n",
    "print(coordinates[(40.7128, -74.0060)])  # Output: New York"
   ]
  },
  {
   "cell_type": "markdown",
   "id": "93bb2db7-e890-40d3-a806-8c21bf102670",
   "metadata": {},
   "source": [
    "Here, the tuple (40.7128, -74.0060) represents the geographic coordinates of New York and ensures that the key cannot be changed.\n",
    "\n",
    "Other Examples:\n",
    "\n",
    "1. Fixed Data Structures: Representing a point in 2D/3D space, e.g., (x, y, z).\n",
    "2. Return Multiple Values: Using tuples to return multiple values from a function, ensuring the structure of the returned data remains consistent.\n",
    "3. Memory Efficiency: Tuples are more memory-efficient than lists, so for large, read-only datasets, tuples are preferred."
   ]
  },
  {
   "cell_type": "markdown",
   "id": "c088a751-239d-4d35-98e3-01e88a2dd2a0",
   "metadata": {},
   "source": [
    "### How do sets handle duplicate values in Python?"
   ]
  },
  {
   "cell_type": "markdown",
   "id": "babef50c-caa9-4ee4-9dc6-c4bbb3cc3527",
   "metadata": {},
   "source": [
    "Ans. In Python, sets automatically remove duplicates because they only allow unique values. When you try to add a duplicate value to a set, it simply won't be added. This is because sets are designed to store each element only once."
   ]
  },
  {
   "cell_type": "code",
   "execution_count": 16,
   "id": "2e76d486-803b-4d94-9475-7590e925fb87",
   "metadata": {},
   "outputs": [
    {
     "name": "stdout",
     "output_type": "stream",
     "text": [
      "{1, 2, 3, 4}\n"
     ]
    }
   ],
   "source": [
    "my_set = {1, 2, 3, 4}\n",
    "my_set.add(3)  # Trying to add a duplicate value\n",
    "print(my_set)"
   ]
  },
  {
   "cell_type": "markdown",
   "id": "048fd459-94ae-41c5-8dd9-bf38326b968e",
   "metadata": {},
   "source": [
    "In this case, the set my_set already contains 3, so when you try to add it again, the set remains unchanged.\n",
    "\n",
    "Key Points:\n",
    "* Uniqueness: Sets only contain unique elements.\n",
    "* No Duplicates: Any attempt to add a duplicate value is ignored.\n",
    "* Unordered: Sets are unordered, meaning the elements do not have a fixed order."
   ]
  },
  {
   "cell_type": "markdown",
   "id": "4bbf79b3-994d-4a37-ba19-750373b14947",
   "metadata": {},
   "source": [
    "### Q 14. How does the “in” keyword work differently for lists and dictionaries?"
   ]
  },
  {
   "cell_type": "markdown",
   "id": "76b1f7a6-e1a6-4a5c-b92d-9f6d12fd6d65",
   "metadata": {},
   "source": [
    "Ans. The in keyword works differently for lists and dictionaries in Python:"
   ]
  },
  {
   "cell_type": "markdown",
   "id": "bef51581-9eba-47cb-934b-749b1f989a8b",
   "metadata": {},
   "source": [
    "### For Lists:"
   ]
  },
  {
   "cell_type": "markdown",
   "id": "66e4f286-c400-45d3-b0b6-b52ad786755a",
   "metadata": {},
   "source": [
    "The in keyword checks if a value exists in the list. It searches for the element by iterating through the list and returning True if the element is found.\n",
    "\n",
    "Example:"
   ]
  },
  {
   "cell_type": "code",
   "execution_count": 17,
   "id": "df8010ca-6c5a-455f-bb14-e97159ca0c56",
   "metadata": {},
   "outputs": [
    {
     "name": "stdout",
     "output_type": "stream",
     "text": [
      "True\n",
      "False\n"
     ]
    }
   ],
   "source": [
    "my_list = [1, 2, 3, 4]\n",
    "print(3 in my_list)  # True\n",
    "print(5 in my_list)  # False"
   ]
  },
  {
   "cell_type": "markdown",
   "id": "85870910-d0f9-42e4-9707-8a3951929fc4",
   "metadata": {},
   "source": [
    "### For Dictionaries:"
   ]
  },
  {
   "cell_type": "markdown",
   "id": "32d725b8-7ef7-4c7a-9e90-051ad6655222",
   "metadata": {},
   "source": [
    "The in keyword checks for the existence of a key in the dictionary, not the values. It checks whether the specified key is present in the dictionary's set of keys.\n",
    "\n",
    "Example:"
   ]
  },
  {
   "cell_type": "code",
   "execution_count": 18,
   "id": "17ea49a7-6c3b-4c1a-acb6-1236c5d11d57",
   "metadata": {},
   "outputs": [
    {
     "name": "stdout",
     "output_type": "stream",
     "text": [
      "True\n",
      "False\n"
     ]
    }
   ],
   "source": [
    "my_dict = {\"a\": 1, \"b\": 2, \"c\": 3}\n",
    "print(\"b\" in my_dict)  # True\n",
    "print(2 in my_dict)    # False (checks for keys, not values)"
   ]
  },
  {
   "cell_type": "markdown",
   "id": "c5885658-acdd-4a20-9001-b2ca0b9cf0a4",
   "metadata": {},
   "source": [
    "Key Differences:\n",
    "\n",
    "* Lists: The in keyword checks for values.\n",
    "* Dictionaries: The in keyword checks for keys.\n",
    "  \n",
    "If you want to check for a value in a dictionary, you can use the .values() method:"
   ]
  },
  {
   "cell_type": "code",
   "execution_count": 19,
   "id": "a5e30c2f-3076-4ec0-9636-3fadf085fffd",
   "metadata": {},
   "outputs": [
    {
     "name": "stdout",
     "output_type": "stream",
     "text": [
      "True\n"
     ]
    }
   ],
   "source": [
    "print(2 in my_dict.values())  # True"
   ]
  },
  {
   "cell_type": "markdown",
   "id": "91646202-ca24-40fa-9ca7-7b03eda57d76",
   "metadata": {},
   "source": [
    "### Q 15. Can you modify the elements of a tuple? Explain why or why not."
   ]
  },
  {
   "cell_type": "markdown",
   "id": "5896fef9-5234-4e2a-ba9a-d0e81d11d243",
   "metadata": {},
   "source": [
    "Ans. No, you cannot modify the elements of a tuple in Python because tuples are immutable.\n",
    "\n",
    "Why Tuples Are Immutable:\n",
    "1. Immutability: Once a tuple is created, its elements cannot be changed, added, or removed. This is in contrast to lists, which are mutable and allow modifications.\n",
    "\n",
    "2. Use Case: The immutability of tuples provides certain benefits, such as:\n",
    "* Ensuring the integrity of the data (the data cannot be changed accidentally).\n",
    "* Allowing tuples to be used as keys in dictionaries or as elements in sets (since they are hashable)."
   ]
  },
  {
   "cell_type": "code",
   "execution_count": 20,
   "id": "6adac043-75aa-4365-800c-9f8120175501",
   "metadata": {},
   "outputs": [
    {
     "ename": "TypeError",
     "evalue": "'tuple' object does not support item assignment",
     "output_type": "error",
     "traceback": [
      "\u001b[1;31m---------------------------------------------------------------------------\u001b[0m",
      "\u001b[1;31mTypeError\u001b[0m                                 Traceback (most recent call last)",
      "Cell \u001b[1;32mIn[20], line 2\u001b[0m\n\u001b[0;32m      1\u001b[0m my_tuple \u001b[38;5;241m=\u001b[39m (\u001b[38;5;241m1\u001b[39m, \u001b[38;5;241m2\u001b[39m, \u001b[38;5;241m3\u001b[39m)\n\u001b[1;32m----> 2\u001b[0m my_tuple[\u001b[38;5;241m0\u001b[39m] \u001b[38;5;241m=\u001b[39m \u001b[38;5;241m4\u001b[39m\n",
      "\u001b[1;31mTypeError\u001b[0m: 'tuple' object does not support item assignment"
     ]
    }
   ],
   "source": [
    "my_tuple = (1, 2, 3)\n",
    "my_tuple[0] = 4  # This will raise an error"
   ]
  },
  {
   "cell_type": "markdown",
   "id": "50b610f6-b80e-4bb8-bf6c-4ea58ac5a272",
   "metadata": {},
   "source": [
    "Why This Happens:\n",
    "* The elements of a tuple are fixed once the tuple is created, so attempting to modify an element (e.g., my_tuple[0] = 4) results in a TypeError.\n",
    "  \n",
    "If you need to modify elements, you should consider using a list instead of a tuple."
   ]
  },
  {
   "cell_type": "markdown",
   "id": "284770ee-b4ab-407e-8f47-7b90f7c34da9",
   "metadata": {},
   "source": [
    "### Q 16. What is a nested dictionary, and give an example of its use case?"
   ]
  },
  {
   "cell_type": "markdown",
   "id": "ae1fd425-413e-4b35-bff5-8f46cecf7fe0",
   "metadata": {},
   "source": [
    "Ans. A nested dictionary in Python is a dictionary where the values of some keys are themselves dictionaries. This allows you to store more complex, hierarchical data structures."
   ]
  },
  {
   "cell_type": "markdown",
   "id": "7b6d8999-efa7-4b00-9882-0cfd1ba350b3",
   "metadata": {},
   "source": [
    "### Example of a Nested Dictionary:"
   ]
  },
  {
   "cell_type": "markdown",
   "id": "7abd79af-4136-4aa0-97c8-c3c54d394ffe",
   "metadata": {},
   "source": [
    "A typical use case for nested dictionaries is representing structured data, like a collection of records where each record has sub-records. For example, storing information about a group of employees where each employee has a name, age, and address:"
   ]
  },
  {
   "cell_type": "code",
   "execution_count": 21,
   "id": "084b9f29-7a17-4120-8383-24f8b73ab096",
   "metadata": {},
   "outputs": [
    {
     "name": "stdout",
     "output_type": "stream",
     "text": [
      "Alice\n",
      "Chicago\n"
     ]
    }
   ],
   "source": [
    "employees = {\n",
    "    \"emp_001\": {\n",
    "        \"name\": \"Alice\",\n",
    "        \"age\": 30,\n",
    "        \"address\": {\"street\": \"123 Main St\", \"city\": \"New York\", \"zip\": \"10001\"}\n",
    "    },\n",
    "    \"emp_002\": {\n",
    "        \"name\": \"Bob\",\n",
    "        \"age\": 25,\n",
    "        \"address\": {\"street\": \"456 Elm St\", \"city\": \"Chicago\", \"zip\": \"60007\"}\n",
    "    }\n",
    "}\n",
    "\n",
    "# Accessing nested data\n",
    "print(employees[\"emp_001\"][\"name\"])  # Output: Alice\n",
    "print(employees[\"emp_002\"][\"address\"][\"city\"])  # Output: Chicago"
   ]
  },
  {
   "cell_type": "markdown",
   "id": "0661e623-5c43-4cd2-8678-5ede124144df",
   "metadata": {},
   "source": [
    "### Use Case Example:"
   ]
  },
  {
   "cell_type": "markdown",
   "id": "4ca6b90c-5e84-427c-b876-7624b84b39af",
   "metadata": {},
   "source": [
    "A nested dictionary can be useful for:\n",
    "\n",
    "* Storing and organizing complex data like hierarchical information (e.g., multi-level product catalogs, organizational structures).\n",
    "* Representing data that includes multiple attributes for each entity, such as users with settings, preferences, or roles.\n",
    "\n",
    "In this case, the dictionary holds information about multiple employees, and each employee has detailed sub-records like their address. Nested dictionaries allow this kind of structured and easy-to-access representation."
   ]
  },
  {
   "cell_type": "markdown",
   "id": "d601e429-98d6-4e52-a0b7-46e49ef5cd84",
   "metadata": {},
   "source": [
    "### Q 17.  Describe the time complexity of accessing elements in a dictionary."
   ]
  },
  {
   "cell_type": "markdown",
   "id": "7acfb165-2c99-4c73-b8ba-b4cb57f1d88e",
   "metadata": {},
   "source": [
    "Ans. In Python, accessing elements in a dictionary generally has an average time complexity of \n",
    "O(1), meaning it takes constant time. This is because dictionaries are implemented using a hash table, which allows for fast lookup based on keys.\n",
    "\n",
    "How it works:\n",
    "\n",
    "Key Hashing: When you access a dictionary value using a key, Python computes the hash of the key and uses it to quickly locate the value in the underlying hash table. This process typically requires constant time, \n",
    "O(1), assuming that hash collisions are handled efficiently.\n",
    "\n",
    "Worst-Case Time Complexity:\n",
    "\n",
    "In some rare cases, such as when there are a large number of hash collisions (e.g., if many keys hash to the same location), the time complexity could degrade to \n",
    "O(n), where 𝑛 is the number of items in the dictionary. However, this scenario is uncommon due to the effectiveness of Python's hash function and collision resolution mechanisms (like open addressing and chaining)."
   ]
  },
  {
   "cell_type": "code",
   "execution_count": 22,
   "id": "1d065077-a2ee-42b4-8b61-f933a7d8bd07",
   "metadata": {},
   "outputs": [
    {
     "name": "stdout",
     "output_type": "stream",
     "text": [
      "2\n"
     ]
    }
   ],
   "source": [
    "my_dict = {\"apple\": 1, \"banana\": 2, \"cherry\": 3}\n",
    "print(my_dict[\"banana\"])  # Accessing an element by key"
   ]
  },
  {
   "cell_type": "markdown",
   "id": "3f86affa-8f21-4fc1-ae15-65ea4aec1744",
   "metadata": {},
   "source": [
    "In this case, accessing my_dict[\"banana\"] is typically \n",
    "O(1), because the key \"banana\" is hashed and its associated value 2 is found in constant time.\n",
    "\n",
    "Conclusion:\n",
    "* Average time complexity for accessing an element: O(1)\n",
    "* Worst-case time complexity: O(n), but this is rare and typically mitigated by good hash table design."
   ]
  },
  {
   "cell_type": "markdown",
   "id": "51893894-86ab-48ac-b6e4-42f712cee949",
   "metadata": {},
   "source": [
    "### Q 18. In what situations are lists preferred over dictionaries?"
   ]
  },
  {
   "cell_type": "markdown",
   "id": "462e9651-ff16-4047-a587-0f69795e4bbe",
   "metadata": {},
   "source": [
    "Ans. Lists are preferred over dictionaries in situations where:\n",
    "\n",
    "1. Ordered Data: When the order of elements matters, and you need to maintain or iterate over the elements in the exact sequence they were added, lists are more appropriate. Dictionaries, prior to Python 3.7, did not guarantee order, though since Python 3.7, they maintain insertion order. However, lists explicitly focus on the order of elements.\n",
    "\n",
    "Example:"
   ]
  },
  {
   "cell_type": "code",
   "execution_count": 23,
   "id": "3b2e0a80-c151-4c78-a846-80855ef81eb4",
   "metadata": {},
   "outputs": [],
   "source": [
    "fruits = [\"apple\", \"banana\", \"cherry\"]"
   ]
  },
  {
   "cell_type": "markdown",
   "id": "325951dc-3d9d-49d4-96c4-4af2b697e83f",
   "metadata": {},
   "source": [
    "2. Index-Based Access: If you need to access elements by position or index (e.g., the first, second, or last element), lists are ideal. Dictionaries, on the other hand, use keys for access rather than numerical indices.\n",
    "\n",
    "Example:"
   ]
  },
  {
   "cell_type": "code",
   "execution_count": 24,
   "id": "fcd2c5ca-c5f9-4123-acbd-d2b09ad58eb5",
   "metadata": {},
   "outputs": [
    {
     "name": "stdout",
     "output_type": "stream",
     "text": [
      "20\n"
     ]
    }
   ],
   "source": [
    "numbers = [10, 20, 30]\n",
    "print(numbers[1])  # Accessing the second element (20)"
   ]
  },
  {
   "cell_type": "markdown",
   "id": "b92ed178-53b5-478d-8262-3844972e3f58",
   "metadata": {},
   "source": [
    "3. Homogeneous Data: Lists are more suitable when you have a collection of elements of the same or similar type, and you're working with them in a linear fashion, such as when processing a sequence of items.\n",
    "\n",
    "Example:"
   ]
  },
  {
   "cell_type": "code",
   "execution_count": 25,
   "id": "843456cf-82ce-46a5-aed9-603ee49404d8",
   "metadata": {},
   "outputs": [],
   "source": [
    "scores = [85, 90, 78, 92]  # List of scores for students"
   ]
  },
  {
   "cell_type": "markdown",
   "id": "7226e52a-375d-4d28-9aa4-aa69e374531d",
   "metadata": {},
   "source": [
    "4. Efficient Operations on Small Data: If the data is small and you don't need fast lookups or complex key-value mapping, lists can be more efficient and simpler to use for basic operations like adding, removing, or modifying elements.\n",
    "\n",
    "5. Stack and Queue Operations: Lists are often used when implementing data structures like stacks or queues where elements are added or removed from one end (e.g., using append() for stack operations or pop() for queue operations).\n",
    "\n",
    "Example:"
   ]
  },
  {
   "cell_type": "code",
   "execution_count": 26,
   "id": "a4e23e98-5eba-4d2d-a78b-c2b32a8da028",
   "metadata": {},
   "outputs": [
    {
     "data": {
      "text/plain": [
       "10"
      ]
     },
     "execution_count": 26,
     "metadata": {},
     "output_type": "execute_result"
    }
   ],
   "source": [
    "stack = []\n",
    "stack.append(10)  # Add element to the stack\n",
    "stack.pop()  # Remove element from the stack"
   ]
  },
  {
   "cell_type": "markdown",
   "id": "52aa1eca-cc0c-409d-9c2b-e019f8df3268",
   "metadata": {},
   "source": [
    "6. Simplicity: When you don't need key-value pairs or complex data mapping, lists offer a simpler and more straightforward approach."
   ]
  },
  {
   "cell_type": "markdown",
   "id": "129ba23f-6bf9-413a-93eb-454f33ac2f19",
   "metadata": {},
   "source": [
    "Key Takeaway:\n",
    "* Use lists when you need ordered collections, index-based access, or when your data is homogeneous and doesn’t need a key-value relationship.\n",
    "* Use dictionaries when you need fast lookups based on unique keys, or when the data naturally fits into a key-value pair structure."
   ]
  },
  {
   "cell_type": "markdown",
   "id": "69643b9f-85da-40ad-ba30-663b3209763e",
   "metadata": {},
   "source": [
    "### Q 19. Why are dictionaries considered unordered, and how does that affect data retrieval?"
   ]
  },
  {
   "cell_type": "markdown",
   "id": "d364d332-07ea-4a14-bf7f-bdeae1a39e4a",
   "metadata": {},
   "source": [
    "Ans. Dictionaries were historically considered unordered because, before Python 3.7, they did not maintain the order of key-value pairs. The order in which items were inserted could not be guaranteed when retrieving or iterating over the dictionary."
   ]
  },
  {
   "cell_type": "markdown",
   "id": "b8df8c7b-abd7-4106-8ce4-4a6da779dade",
   "metadata": {},
   "source": [
    "### How This Affects Data Retrieval:\n",
    "* Before Python 3.7: Since dictionaries were unordered, the order of key-value pairs was not preserved, meaning when you iterated through the dictionary, the order of elements could appear random.\n",
    "* From Python 3.7 onwards: Dictionaries maintain the insertion order of key-value pairs, but they are still considered unordered from a conceptual perspective because they are optimized for fast lookups, not maintaining order.\n",
    "\n",
    "### Data Retrieval:\n",
    "* Unordered: In terms of retrieval, the order in which you retrieve the elements doesn’t matter for most use cases, as Python optimizes for fast lookups using the keys rather than the order of elements.\n",
    "* Access by key: Regardless of order, you can still retrieve any value using its key in constant time O(1).\n",
    "\n",
    "### Conclusion:\n",
    "* Order doesn't affect data retrieval in dictionaries; it's the key-based access that matters, and that remains efficient even in unordered collections. However, from Python 3.7 onwards, the order is preserved when iterating, though it's not guaranteed to be part of the dictionary's core purpose."
   ]
  },
  {
   "cell_type": "markdown",
   "id": "f540e492-dcea-4c36-b943-64305e86f10f",
   "metadata": {},
   "source": [
    "### Q 20. Explain the difference between a list and a dictionary in terms of data retrieval."
   ]
  },
  {
   "cell_type": "markdown",
   "id": "d17f0299-25a6-4951-9cca-25a7e5791414",
   "metadata": {},
   "source": [
    "Ans. In Python, the main difference between a list and a dictionary in terms of data retrieval lies in how the data is accessed:\n",
    "\n",
    "1. List:\n",
    "\n",
    "* A list is an ordered collection of items, where each item is assigned an index (starting from 0).\n",
    "* Data retrieval from a list is done using an index.\n",
    "  \n",
    "* Example:"
   ]
  },
  {
   "cell_type": "code",
   "execution_count": 27,
   "id": "51ad2537-7fce-4bff-b10c-0b2276e87aa5",
   "metadata": {},
   "outputs": [
    {
     "name": "stdout",
     "output_type": "stream",
     "text": [
      "20\n"
     ]
    }
   ],
   "source": [
    "my_list = [10, 20, 30]\n",
    "print(my_list[1])  # Output: 20"
   ]
  },
  {
   "cell_type": "markdown",
   "id": "a7a2ba83-5a77-4fe9-905b-04b506cecb76",
   "metadata": {},
   "source": [
    "* Lists are best used when the order of the items matters or when you need to access elements by their position."
   ]
  },
  {
   "cell_type": "markdown",
   "id": "bcc9ad8c-bfdf-4f46-9ba9-c657069190a3",
   "metadata": {},
   "source": [
    "2. Dictionary:\n",
    "\n",
    "* A dictionary is an unordered collection of key-value pairs, where each key is unique.\n",
    "* Data retrieval from a dictionary is done using a key.\n",
    "* Example:"
   ]
  },
  {
   "cell_type": "code",
   "execution_count": 28,
   "id": "a45f1d77-58ea-4df1-9fb3-5f02eac5d4c8",
   "metadata": {},
   "outputs": [
    {
     "name": "stdout",
     "output_type": "stream",
     "text": [
      "Alice\n"
     ]
    }
   ],
   "source": [
    "my_dict = {'name': 'Alice', 'age': 25}\n",
    "print(my_dict['name'])  # Output: Alice"
   ]
  },
  {
   "cell_type": "markdown",
   "id": "20645408-c15c-46d8-a6f5-9e609508695e",
   "metadata": {},
   "source": [
    "* Dictionaries are ideal when you need to store data that is associated with a unique identifier (key) and you need fast access to the value corresponding to that key.\n",
    "\n",
    "### Summary:\n",
    "* List: Retrieve data using an index (numerical position).\n",
    "* Dictionary: Retrieve data using a key (unique identifier)."
   ]
  },
  {
   "cell_type": "markdown",
   "id": "6f1b54b7-0c31-4a9d-a7f3-d29f26a7cf3c",
   "metadata": {},
   "source": [
    "# Practical Questions"
   ]
  },
  {
   "cell_type": "markdown",
   "id": "7db31da6-3143-4860-8ec6-7b86388575b3",
   "metadata": {},
   "source": [
    "### Q 1. Write a code to create a string with your name and print it"
   ]
  },
  {
   "cell_type": "code",
   "execution_count": 33,
   "id": "6b55b0cd-55e6-47bd-8445-98435c5dd93c",
   "metadata": {},
   "outputs": [
    {
     "name": "stdout",
     "output_type": "stream",
     "text": [
      "Sameer\n"
     ]
    }
   ],
   "source": [
    "Name = \"Sameer\"\n",
    "print(Name)"
   ]
  },
  {
   "cell_type": "markdown",
   "id": "a9316dbb-a482-48f3-a938-7684e1eeba20",
   "metadata": {},
   "source": [
    "### Q 2. Write a code to find the length of the string \"Hello World\""
   ]
  },
  {
   "cell_type": "code",
   "execution_count": 34,
   "id": "86eec49c-a7ae-4e0a-9d2b-f70b74cb6b64",
   "metadata": {},
   "outputs": [
    {
     "data": {
      "text/plain": [
       "11"
      ]
     },
     "execution_count": 34,
     "metadata": {},
     "output_type": "execute_result"
    }
   ],
   "source": [
    "String = \"Hello World\"\n",
    "\n",
    "len(String)"
   ]
  },
  {
   "cell_type": "markdown",
   "id": "e7284142-bcd2-43ba-87df-df13f5bd1519",
   "metadata": {},
   "source": [
    "### Write a code to slice the first 3 characters from the string \"Python Programming\""
   ]
  },
  {
   "cell_type": "code",
   "execution_count": 37,
   "id": "80d070d8-d8e4-426b-8947-40cbd2b27254",
   "metadata": {},
   "outputs": [
    {
     "name": "stdout",
     "output_type": "stream",
     "text": [
      "Pyt\n"
     ]
    }
   ],
   "source": [
    "text = \"Python Programming\"\n",
    "\n",
    "sliced_text = text[:3]\n",
    "\n",
    "print(sliced_text)"
   ]
  },
  {
   "cell_type": "markdown",
   "id": "e023858b-95fc-4f53-accb-21ff15ca70a7",
   "metadata": {},
   "source": [
    "### Q 4. Write a code to convert the string \"hello\" to uppercase"
   ]
  },
  {
   "cell_type": "code",
   "execution_count": 39,
   "id": "97e8fc0d-c42b-4115-a226-b81f72a6cfc8",
   "metadata": {},
   "outputs": [
    {
     "name": "stdout",
     "output_type": "stream",
     "text": [
      "HELLO\n"
     ]
    }
   ],
   "source": [
    "text = \"hello\"\n",
    "\n",
    "uppercase_text = text.upper()\n",
    "\n",
    "print(uppercase_text)"
   ]
  },
  {
   "cell_type": "markdown",
   "id": "b8610dd7-50f3-4ed8-9a98-20219810947a",
   "metadata": {},
   "source": [
    "### Q 5. Write a code to replace the word \"apple\" with \"orange\" in the string \"I like apple\""
   ]
  },
  {
   "cell_type": "code",
   "execution_count": 41,
   "id": "610d0887-a0d2-4c9a-8352-e5450043c2d8",
   "metadata": {},
   "outputs": [
    {
     "name": "stdout",
     "output_type": "stream",
     "text": [
      "I like orange\n"
     ]
    }
   ],
   "source": [
    "text = \"I like apple\"\n",
    "\n",
    "updated_text = text.replace(\"apple\", \"orange\")\n",
    "\n",
    "print(updated_text)"
   ]
  },
  {
   "cell_type": "markdown",
   "id": "3377cc02-0ca7-48fc-9d3f-8f912b823c8d",
   "metadata": {},
   "source": [
    "### Q 6. Write a code to create a list with numbers 1 to 5 and print it"
   ]
  },
  {
   "cell_type": "code",
   "execution_count": 42,
   "id": "942bd4c2-e64c-4fb0-85f2-122ff04f878f",
   "metadata": {},
   "outputs": [
    {
     "name": "stdout",
     "output_type": "stream",
     "text": [
      "[1, 2, 3, 4, 5]\n"
     ]
    }
   ],
   "source": [
    "numbers = [1, 2, 3, 4, 5]\n",
    "\n",
    "print(numbers)"
   ]
  },
  {
   "cell_type": "markdown",
   "id": "5a3afe65-b649-479d-9ee5-9fd6eb659b94",
   "metadata": {},
   "source": [
    "### Q 7. Write a code to append the number 10 to the list [1, 2, 3, 4]"
   ]
  },
  {
   "cell_type": "code",
   "execution_count": 43,
   "id": "f16da3c3-118c-4eda-9de0-3e419376de9a",
   "metadata": {},
   "outputs": [
    {
     "name": "stdout",
     "output_type": "stream",
     "text": [
      "[1, 2, 3, 4, 10]\n"
     ]
    }
   ],
   "source": [
    "numbers = [1, 2, 3, 4]\n",
    "\n",
    "numbers.append(10)\n",
    "\n",
    "print(numbers)"
   ]
  },
  {
   "cell_type": "markdown",
   "id": "d11a534c-ba34-4b2e-bef0-0c1e2e09c803",
   "metadata": {},
   "source": [
    "### Q 8. Write a code to remove the number 3 from the list [1, 2, 3, 4, 5]"
   ]
  },
  {
   "cell_type": "code",
   "execution_count": 44,
   "id": "dd2571be-3766-4127-bfa7-2f64bd568ba1",
   "metadata": {},
   "outputs": [
    {
     "name": "stdout",
     "output_type": "stream",
     "text": [
      "[1, 2, 4, 5]\n"
     ]
    }
   ],
   "source": [
    "numbers = [1, 2, 3, 4, 5]\n",
    "\n",
    "numbers.remove(3)\n",
    "\n",
    "print(numbers)"
   ]
  },
  {
   "cell_type": "markdown",
   "id": "d65ca9d7-33ad-4c34-a56b-7e4b60bad724",
   "metadata": {},
   "source": [
    "### Q 9. Write a code to access the second element in the list ['a', 'b', 'c', 'd']"
   ]
  },
  {
   "cell_type": "code",
   "execution_count": 48,
   "id": "f12491c5-2326-48c9-878b-dfe480d01154",
   "metadata": {},
   "outputs": [
    {
     "name": "stdout",
     "output_type": "stream",
     "text": [
      "b\n"
     ]
    }
   ],
   "source": [
    "list = ['a', 'b', 'c', 'd']\n",
    "\n",
    "second_element = list[1]\n",
    "\n",
    "print(second_element)"
   ]
  },
  {
   "cell_type": "markdown",
   "id": "2d76e96f-a520-4748-b9f4-e035ba90cb74",
   "metadata": {},
   "source": [
    "### Q 10. Write a code to reverse the list [10, 20, 30, 40, 50]"
   ]
  },
  {
   "cell_type": "code",
   "execution_count": 49,
   "id": "dfc667ca-dfb1-4a86-adef-15fc789883b4",
   "metadata": {},
   "outputs": [
    {
     "name": "stdout",
     "output_type": "stream",
     "text": [
      "[50, 40, 30, 20, 10]\n"
     ]
    }
   ],
   "source": [
    "numbers = [10, 20, 30, 40, 50]\n",
    "\n",
    "numbers.reverse()\n",
    "\n",
    "print(numbers)"
   ]
  },
  {
   "cell_type": "markdown",
   "id": "9501d6f9-2a41-4f1d-b4a6-f17f790c753c",
   "metadata": {},
   "source": [
    "### Q 11. Write a code to create a tuple with the elements 10, 20, 30 and print it."
   ]
  },
  {
   "cell_type": "code",
   "execution_count": 50,
   "id": "a4864c3a-00f1-4920-9fcc-73ee168811ac",
   "metadata": {},
   "outputs": [
    {
     "name": "stdout",
     "output_type": "stream",
     "text": [
      "(10, 20, 30)\n"
     ]
    }
   ],
   "source": [
    "# Creating a tuple with elements 10, 20, 30\n",
    "my_tuple = (10, 20, 30)\n",
    "\n",
    "# Printing the tuple\n",
    "print(my_tuple)"
   ]
  },
  {
   "cell_type": "markdown",
   "id": "47324d78-5279-497e-b2e1-6ecfd8a64f39",
   "metadata": {},
   "source": [
    "### Q 12.  Write a code to access the first element of the tuple ('apple', 'banana', 'cherry')"
   ]
  },
  {
   "cell_type": "code",
   "execution_count": 51,
   "id": "3c2ee303-ec56-409b-b9f0-bd2b0856d08f",
   "metadata": {},
   "outputs": [
    {
     "name": "stdout",
     "output_type": "stream",
     "text": [
      "apple\n"
     ]
    }
   ],
   "source": [
    "# Original tuple\n",
    "fruits = ('apple', 'banana', 'cherry')\n",
    "\n",
    "# Accessing the first element\n",
    "first_element = fruits[0]\n",
    "\n",
    "# Printing the first element\n",
    "print(first_element)"
   ]
  },
  {
   "cell_type": "markdown",
   "id": "8e820fe0-3d30-49e8-9623-3cf6ee6b869d",
   "metadata": {},
   "source": [
    "### Q 13.  Write a code to count how many times the number 2 appears in the tuple (1, 2, 3, 2, 4, 2)."
   ]
  },
  {
   "cell_type": "code",
   "execution_count": 52,
   "id": "5b8e462d-8d71-4bcf-848f-a4349b168092",
   "metadata": {},
   "outputs": [
    {
     "name": "stdout",
     "output_type": "stream",
     "text": [
      "3\n"
     ]
    }
   ],
   "source": [
    "# Original tuple\n",
    "numbers = (1, 2, 3, 2, 4, 2)\n",
    "\n",
    "# Counting how many times the number 2 appears\n",
    "count_of_2 = numbers.count(2)\n",
    "\n",
    "# Printing the result\n",
    "print(count_of_2)"
   ]
  },
  {
   "cell_type": "markdown",
   "id": "440e3a12-7189-4057-90e5-63a51ee9b665",
   "metadata": {},
   "source": [
    "### Q 14. Write a code to find the index of the element \"cat\" in the tuple ('dog', 'cat', 'rabbit')."
   ]
  },
  {
   "cell_type": "code",
   "execution_count": 53,
   "id": "eb2b4db7-d96f-4566-810e-18370bce31e7",
   "metadata": {},
   "outputs": [
    {
     "name": "stdout",
     "output_type": "stream",
     "text": [
      "1\n"
     ]
    }
   ],
   "source": [
    "# Original tuple\n",
    "animals = ('dog', 'cat', 'rabbit')\n",
    "\n",
    "# Finding the index of the element \"cat\"\n",
    "index_of_cat = animals.index('cat')\n",
    "\n",
    "# Printing the result\n",
    "print(index_of_cat)"
   ]
  },
  {
   "cell_type": "markdown",
   "id": "75149f19-2c45-49d7-93fb-f4c48fef5824",
   "metadata": {},
   "source": [
    "### Q 15. Write a code to check if the element \"banana\" is in the tuple ('apple', 'orange', 'banana')."
   ]
  },
  {
   "cell_type": "code",
   "execution_count": 54,
   "id": "e2f60266-6032-4891-a1ff-e3cd08ca496f",
   "metadata": {},
   "outputs": [
    {
     "name": "stdout",
     "output_type": "stream",
     "text": [
      "True\n"
     ]
    }
   ],
   "source": [
    "# Original tuple\n",
    "fruits = ('apple', 'orange', 'banana')\n",
    "\n",
    "# Checking if \"banana\" is in the tuple\n",
    "is_banana_in_tuple = 'banana' in fruits\n",
    "\n",
    "# Printing the result\n",
    "print(is_banana_in_tuple)"
   ]
  },
  {
   "cell_type": "markdown",
   "id": "c95a6b70-308c-4171-818b-a15556d58273",
   "metadata": {},
   "source": [
    "### Q 16.  Write a code to create a set with the elements 1, 2, 3, 4, 5 and print it."
   ]
  },
  {
   "cell_type": "code",
   "execution_count": 55,
   "id": "79220eac-4315-4388-b3e5-95eeadbcff97",
   "metadata": {},
   "outputs": [
    {
     "name": "stdout",
     "output_type": "stream",
     "text": [
      "{1, 2, 3, 4, 5}\n"
     ]
    }
   ],
   "source": [
    "# Creating a set with elements 1, 2, 3, 4, 5\n",
    "my_set = {1, 2, 3, 4, 5}\n",
    "\n",
    "# Printing the set\n",
    "print(my_set)"
   ]
  },
  {
   "cell_type": "markdown",
   "id": "b2646917-a36d-4a68-886d-e4b50a1bcf4a",
   "metadata": {},
   "source": [
    "### Q 17. Write a code to add the element 6 to the set {1, 2, 3, 4}."
   ]
  },
  {
   "cell_type": "code",
   "execution_count": 56,
   "id": "83851c6f-ed94-4b28-a52e-735fc94e7792",
   "metadata": {},
   "outputs": [
    {
     "name": "stdout",
     "output_type": "stream",
     "text": [
      "{1, 2, 3, 4, 6}\n"
     ]
    }
   ],
   "source": [
    "# Original set\n",
    "my_set = {1, 2, 3, 4}\n",
    "\n",
    "# Adding the element 6\n",
    "my_set.add(6)\n",
    "\n",
    "# Printing the updated set\n",
    "print(my_set)"
   ]
  },
  {
   "cell_type": "markdown",
   "id": "9c9eca34-83c8-455d-9e3f-b50e9d099a87",
   "metadata": {},
   "source": [
    "### Q 18. Write a code to create a tuple with the elements 10, 20, 30 and print it."
   ]
  },
  {
   "cell_type": "code",
   "execution_count": 57,
   "id": "0886cefb-6f9c-46b4-9927-b7f2470d0a82",
   "metadata": {},
   "outputs": [
    {
     "name": "stdout",
     "output_type": "stream",
     "text": [
      "(10, 20, 30)\n"
     ]
    }
   ],
   "source": [
    "# Creating a tuple with elements 10, 20, 30\n",
    "my_tuple = (10, 20, 30)\n",
    "\n",
    "# Printing the tuple\n",
    "print(my_tuple)"
   ]
  },
  {
   "cell_type": "markdown",
   "id": "80d88c86-e1e0-43d1-8077-ebcf917597d3",
   "metadata": {},
   "source": [
    "### Q 19. Write a code to access the first element of the tuple ('apple', 'banana', 'cherry')."
   ]
  },
  {
   "cell_type": "code",
   "execution_count": 58,
   "id": "56c934aa-37e9-4eca-b42c-6ec8facc6c12",
   "metadata": {},
   "outputs": [
    {
     "name": "stdout",
     "output_type": "stream",
     "text": [
      "apple\n"
     ]
    }
   ],
   "source": [
    "# Original tuple\n",
    "fruits = ('apple', 'banana', 'cherry')\n",
    "\n",
    "# Accessing the first element\n",
    "first_element = fruits[0]\n",
    "\n",
    "# Printing the first element\n",
    "print(first_element)"
   ]
  },
  {
   "cell_type": "markdown",
   "id": "3a76e9db-d274-4be4-8ef7-d042d6b2aa0d",
   "metadata": {},
   "source": [
    "### Q 20. Write a code to count how many times the number 2 appears in the tuple (1, 2, 3, 2, 4, 2)."
   ]
  },
  {
   "cell_type": "code",
   "execution_count": 59,
   "id": "7049fa06-2395-483a-b935-c1e21670d073",
   "metadata": {},
   "outputs": [
    {
     "name": "stdout",
     "output_type": "stream",
     "text": [
      "3\n"
     ]
    }
   ],
   "source": [
    "# Original tuple\n",
    "numbers = (1, 2, 3, 2, 4, 2)\n",
    "\n",
    "# Counting how many times the number 2 appears\n",
    "count_of_2 = numbers.count(2)\n",
    "\n",
    "# Printing the result\n",
    "print(count_of_2)"
   ]
  },
  {
   "cell_type": "markdown",
   "id": "27f84dff-112c-4e3e-8c72-f1e032d2589e",
   "metadata": {},
   "source": [
    "### Q 21. Write a code to find the index of the element \"cat\" in the tuple ('dog', 'cat', 'rabbit')."
   ]
  },
  {
   "cell_type": "code",
   "execution_count": 60,
   "id": "397b8918-f353-4a9d-94de-f747f57e961f",
   "metadata": {},
   "outputs": [
    {
     "name": "stdout",
     "output_type": "stream",
     "text": [
      "1\n"
     ]
    }
   ],
   "source": [
    "# Original tuple\n",
    "animals = ('dog', 'cat', 'rabbit')\n",
    "\n",
    "# Finding the index of the element \"cat\"\n",
    "index_of_cat = animals.index('cat')\n",
    "\n",
    "# Printing the result\n",
    "print(index_of_cat)"
   ]
  },
  {
   "cell_type": "markdown",
   "id": "9b07dd76-0d18-42d1-a970-39c502038fdd",
   "metadata": {},
   "source": [
    "### Q 22. Write a code to check if the element \"banana\" is in the tuple ('apple', 'orange', 'banana')."
   ]
  },
  {
   "cell_type": "code",
   "execution_count": 61,
   "id": "6a49f162-e901-4851-a00c-ec7bdc1cde1a",
   "metadata": {},
   "outputs": [
    {
     "name": "stdout",
     "output_type": "stream",
     "text": [
      "True\n"
     ]
    }
   ],
   "source": [
    "# Original tuple\n",
    "fruits = ('apple', 'orange', 'banana')\n",
    "\n",
    "# Checking if \"banana\" is in the tuple\n",
    "is_banana_in_tuple = 'banana' in fruits\n",
    "\n",
    "# Printing the result\n",
    "print(is_banana_in_tuple)"
   ]
  },
  {
   "cell_type": "markdown",
   "id": "de85ab6c-2118-4dd9-86cd-e4aaa805d61d",
   "metadata": {},
   "source": [
    "### Q 23. Write a code to create a set with the elements 1, 2, 3, 4, 5 and print it."
   ]
  },
  {
   "cell_type": "code",
   "execution_count": 62,
   "id": "3b8cfb77-ecad-492a-8146-d57762b87964",
   "metadata": {},
   "outputs": [
    {
     "name": "stdout",
     "output_type": "stream",
     "text": [
      "{1, 2, 3, 4, 5}\n"
     ]
    }
   ],
   "source": [
    "# Creating a set with elements 1, 2, 3, 4, 5\n",
    "my_set = {1, 2, 3, 4, 5}\n",
    "\n",
    "# Printing the set\n",
    "print(my_set)"
   ]
  },
  {
   "cell_type": "markdown",
   "id": "752b56f7-db4c-4c29-a23b-926fa6fc9c62",
   "metadata": {},
   "source": [
    "### Q 24. Write a code to add the element 6 to the set {1, 2, 3, 4}."
   ]
  },
  {
   "cell_type": "code",
   "execution_count": 63,
   "id": "712ba41b-565d-4b70-9537-4bd790023180",
   "metadata": {},
   "outputs": [
    {
     "name": "stdout",
     "output_type": "stream",
     "text": [
      "{1, 2, 3, 4, 6}\n"
     ]
    }
   ],
   "source": [
    "# Original set\n",
    "my_set = {1, 2, 3, 4}\n",
    "\n",
    "# Adding the element 6\n",
    "my_set.add(6)\n",
    "\n",
    "# Printing the updated set\n",
    "print(my_set)"
   ]
  },
  {
   "cell_type": "code",
   "execution_count": null,
   "id": "18717b04-8da9-418c-8422-be309b72a24b",
   "metadata": {},
   "outputs": [],
   "source": []
  }
 ],
 "metadata": {
  "kernelspec": {
   "display_name": "Python 3 (ipykernel)",
   "language": "python",
   "name": "python3"
  },
  "language_info": {
   "codemirror_mode": {
    "name": "ipython",
    "version": 3
   },
   "file_extension": ".py",
   "mimetype": "text/x-python",
   "name": "python",
   "nbconvert_exporter": "python",
   "pygments_lexer": "ipython3",
   "version": "3.12.7"
  }
 },
 "nbformat": 4,
 "nbformat_minor": 5
}
